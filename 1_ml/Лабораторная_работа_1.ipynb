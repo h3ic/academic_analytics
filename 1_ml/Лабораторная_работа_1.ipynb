{
  "cells": [
    {
      "cell_type": "markdown",
      "metadata": {
        "id": "hOzCsB0f4e16"
      },
      "source": [
        "# **Лабораторная работа №1. Обработка данных учебной аналитики с использованием методов машинного обучения**"
      ]
    },
    {
      "cell_type": "markdown",
      "metadata": {
        "id": "qEKqpe3u4psY"
      },
      "source": [
        "# Описание работы"
      ]
    },
    {
      "cell_type": "markdown",
      "metadata": {
        "id": "6t1ypbLq5idr"
      },
      "source": [
        "**Цель работы:** сформировать навыки обработки данных учебной аналитики с использованием методов машинного обучения. </br>\n",
        "**Задачи:**\n",
        "\n",
        "\n",
        "1.   Изучить предоставленный набор данных.\n",
        "2.   Собрать данные согласно своему варианту.\n",
        "2.   Выполнить предобработку данных.\n",
        "2.   Изучить алгоритмы машинного обучения для решения задачи классификации.\n",
        "2.   Обосновать, для каких алгоритмов необходимо сделать бинаризацию и нормализацию признаков.\n",
        "2.   Построить модели классификации.\n",
        "2.   Вычислить метрики качества моделей.\n",
        "3.   С помощью подбора параметров добиться точности не менее 0.65\n",
        "3.   Сделать выводы по работе.\n",
        "\n",
        "**Формат сдачи работы** - google colab с аналитическим пояснением."
      ]
    },
    {
      "cell_type": "code",
      "execution_count": 1,
      "metadata": {
        "colab": {
          "base_uri": "https://localhost:8080/"
        },
        "id": "eU1vIZR4TKrU",
        "outputId": "a0c22c50-243d-4d36-e647-f5201cac479a"
      },
      "outputs": [
        {
          "name": "stdout",
          "output_type": "stream",
          "text": [
            "Мой вариант студенты номер -  2 4 6\n"
          ]
        }
      ],
      "source": [
        "# Вычисление варианта\n",
        "student = 2 # напишите свой номер в списке группы\n",
        "print('Мой вариант студенты номер - ', student, student*2, student*3)"
      ]
    },
    {
      "cell_type": "markdown",
      "metadata": {
        "id": "SyUORU45gGZS"
      },
      "source": [
        "**Примечание**\n",
        "\n",
        "Если вдруг в наборе данных отсутствуют файлы по номеру полученного варианта, то можете выбрать любой другой. Главное - полученный объем данных для работы с алгоритмами классификации был не менее 1500 строк."
      ]
    },
    {
      "cell_type": "code",
      "execution_count": 2,
      "metadata": {},
      "outputs": [],
      "source": [
        "import pandas as pd\n",
        "\n",
        "from sklearn.model_selection import train_test_split\n",
        "from sklearn.preprocessing import StandardScaler\n",
        "\n",
        "from sklearn.linear_model import LogisticRegression\n",
        "from sklearn.neighbors import KNeighborsClassifier\n",
        "from sklearn.tree import DecisionTreeClassifier\n",
        "from sklearn.ensemble import RandomForestClassifier\n",
        "\n",
        "from sklearn.metrics import accuracy_score, confusion_matrix, classification_report"
      ]
    },
    {
      "cell_type": "markdown",
      "metadata": {
        "id": "7njtJ_pMXGNZ"
      },
      "source": [
        "### Сбор данных"
      ]
    },
    {
      "cell_type": "code",
      "execution_count": 3,
      "metadata": {},
      "outputs": [],
      "source": [
        "feature_names = ['session', 'student_Id', 'exercise', 'activity', 'start_time', 'end_time', 'idle_time', 'mouse_wheel', \n",
        "                             'mouse_wheel_click', 'mouse_click_left', 'mouse_click_right', 'mouse_movement', 'keystroke']"
      ]
    },
    {
      "cell_type": "code",
      "execution_count": 4,
      "metadata": {},
      "outputs": [],
      "source": [
        "def concat_student_data(filenames: list[str]):\n",
        "\tfiles = []\n",
        "\tfor file in filenames:\n",
        "\t\tfiles.append(pd.read_csv(f'./data/{file}', names=feature_names))\n",
        "\t\n",
        "\treturn pd.concat(files)"
      ]
    },
    {
      "cell_type": "code",
      "execution_count": 5,
      "metadata": {},
      "outputs": [],
      "source": [
        "N_SESSIONS = 6\n",
        "student_2 = concat_student_data([f'{i}_2' for i in range(1, N_SESSIONS)])\n",
        "student_4 = concat_student_data([f'{i}_4' for i in range(1, N_SESSIONS)])\n",
        "student_6 = concat_student_data([f'{i}_6' for i in range(2, N_SESSIONS)]) # 1st session missing\n",
        "students = pd.concat([student_2, student_4, student_6])"
      ]
    },
    {
      "cell_type": "code",
      "execution_count": 33,
      "metadata": {},
      "outputs": [
        {
          "data": {
            "text/html": [
              "<div>\n",
              "<style scoped>\n",
              "    .dataframe tbody tr th:only-of-type {\n",
              "        vertical-align: middle;\n",
              "    }\n",
              "\n",
              "    .dataframe tbody tr th {\n",
              "        vertical-align: top;\n",
              "    }\n",
              "\n",
              "    .dataframe thead th {\n",
              "        text-align: right;\n",
              "    }\n",
              "</style>\n",
              "<table border=\"1\" class=\"dataframe\">\n",
              "  <thead>\n",
              "    <tr style=\"text-align: right;\">\n",
              "      <th></th>\n",
              "      <th>session</th>\n",
              "      <th>student_Id</th>\n",
              "      <th>exercise</th>\n",
              "      <th>activity</th>\n",
              "      <th>start_time</th>\n",
              "      <th>end_time</th>\n",
              "      <th>idle_time</th>\n",
              "      <th>mouse_wheel</th>\n",
              "      <th>mouse_wheel_click</th>\n",
              "      <th>mouse_click_left</th>\n",
              "      <th>mouse_click_right</th>\n",
              "      <th>mouse_movement</th>\n",
              "      <th>keystroke</th>\n",
              "    </tr>\n",
              "  </thead>\n",
              "  <tbody>\n",
              "    <tr>\n",
              "      <th>0</th>\n",
              "      <td>1</td>\n",
              "      <td>2</td>\n",
              "      <td>Es</td>\n",
              "      <td>Other</td>\n",
              "      <td>2.10.2014 11:35:32</td>\n",
              "      <td>2.10.2014 11:35:34</td>\n",
              "      <td>16</td>\n",
              "      <td>0</td>\n",
              "      <td>0</td>\n",
              "      <td>0</td>\n",
              "      <td>0</td>\n",
              "      <td>37</td>\n",
              "      <td>0</td>\n",
              "    </tr>\n",
              "    <tr>\n",
              "      <th>1</th>\n",
              "      <td>1</td>\n",
              "      <td>2</td>\n",
              "      <td>Es_1_1</td>\n",
              "      <td>Deeds_Es_1_1</td>\n",
              "      <td>2.10.2014 11:35:35</td>\n",
              "      <td>2.10.2014 11:38:23</td>\n",
              "      <td>8247889</td>\n",
              "      <td>0</td>\n",
              "      <td>0</td>\n",
              "      <td>2</td>\n",
              "      <td>0</td>\n",
              "      <td>45</td>\n",
              "      <td>20</td>\n",
              "    </tr>\n",
              "    <tr>\n",
              "      <th>2</th>\n",
              "      <td>1</td>\n",
              "      <td>2</td>\n",
              "      <td>Es_1_1</td>\n",
              "      <td>Other</td>\n",
              "      <td>2.10.2014 11:38:24</td>\n",
              "      <td>2.10.2014 11:38:24</td>\n",
              "      <td>0</td>\n",
              "      <td>0</td>\n",
              "      <td>0</td>\n",
              "      <td>0</td>\n",
              "      <td>0</td>\n",
              "      <td>0</td>\n",
              "      <td>0</td>\n",
              "    </tr>\n",
              "    <tr>\n",
              "      <th>3</th>\n",
              "      <td>1</td>\n",
              "      <td>2</td>\n",
              "      <td>Es_1_1</td>\n",
              "      <td>Blank</td>\n",
              "      <td>2.10.2014 11:38:25</td>\n",
              "      <td>2.10.2014 11:38:25</td>\n",
              "      <td>0</td>\n",
              "      <td>0</td>\n",
              "      <td>0</td>\n",
              "      <td>0</td>\n",
              "      <td>0</td>\n",
              "      <td>0</td>\n",
              "      <td>0</td>\n",
              "    </tr>\n",
              "    <tr>\n",
              "      <th>4</th>\n",
              "      <td>1</td>\n",
              "      <td>2</td>\n",
              "      <td>Es_1_1</td>\n",
              "      <td>Study_Es_1_1</td>\n",
              "      <td>2.10.2014 11:38:26</td>\n",
              "      <td>2.10.2014 11:38:36</td>\n",
              "      <td>13578</td>\n",
              "      <td>0</td>\n",
              "      <td>0</td>\n",
              "      <td>0</td>\n",
              "      <td>0</td>\n",
              "      <td>0</td>\n",
              "      <td>0</td>\n",
              "    </tr>\n",
              "  </tbody>\n",
              "</table>\n",
              "</div>"
            ],
            "text/plain": [
              "   session  student_Id exercise       activity           start_time  \\\n",
              "0        1           2       Es          Other   2.10.2014 11:35:32   \n",
              "1        1           2   Es_1_1   Deeds_Es_1_1   2.10.2014 11:35:35   \n",
              "2        1           2   Es_1_1          Other   2.10.2014 11:38:24   \n",
              "3        1           2   Es_1_1          Blank   2.10.2014 11:38:25   \n",
              "4        1           2   Es_1_1   Study_Es_1_1   2.10.2014 11:38:26   \n",
              "\n",
              "              end_time  idle_time  mouse_wheel  mouse_wheel_click  \\\n",
              "0   2.10.2014 11:35:34         16            0                  0   \n",
              "1   2.10.2014 11:38:23    8247889            0                  0   \n",
              "2   2.10.2014 11:38:24          0            0                  0   \n",
              "3   2.10.2014 11:38:25          0            0                  0   \n",
              "4   2.10.2014 11:38:36      13578            0                  0   \n",
              "\n",
              "   mouse_click_left  mouse_click_right  mouse_movement  keystroke  \n",
              "0                 0                  0              37          0  \n",
              "1                 2                  0              45         20  \n",
              "2                 0                  0               0          0  \n",
              "3                 0                  0               0          0  \n",
              "4                 0                  0               0          0  "
            ]
          },
          "execution_count": 33,
          "metadata": {},
          "output_type": "execute_result"
        }
      ],
      "source": [
        "student_2.head()"
      ]
    },
    {
      "cell_type": "code",
      "execution_count": 6,
      "metadata": {},
      "outputs": [
        {
          "name": "stdout",
          "output_type": "stream",
          "text": [
            "(1484, 13)\n",
            "(2880, 13)\n",
            "(2233, 13)\n",
            "(6597, 13)\n"
          ]
        }
      ],
      "source": [
        "print(student_2.shape)\n",
        "print(student_4.shape)\n",
        "print(student_6.shape)\n",
        "print(students.shape)"
      ]
    },
    {
      "cell_type": "markdown",
      "metadata": {},
      "source": [
        "Проверим самые многочисленные типы активностей среди трех студентов"
      ]
    },
    {
      "cell_type": "code",
      "execution_count": 7,
      "metadata": {},
      "outputs": [
        {
          "data": {
            "text/plain": [
              " Other         1296\n",
              " Blank          844\n",
              " Diagram        731\n",
              " Aulaweb        306\n",
              " Properties     249\n",
              "Name: activity, dtype: int64"
            ]
          },
          "execution_count": 7,
          "metadata": {},
          "output_type": "execute_result"
        }
      ],
      "source": [
        "students.activity.value_counts()[:5]"
      ]
    },
    {
      "cell_type": "code",
      "execution_count": 8,
      "metadata": {},
      "outputs": [
        {
          "data": {
            "text/html": [
              "<div>\n",
              "<style scoped>\n",
              "    .dataframe tbody tr th:only-of-type {\n",
              "        vertical-align: middle;\n",
              "    }\n",
              "\n",
              "    .dataframe tbody tr th {\n",
              "        vertical-align: top;\n",
              "    }\n",
              "\n",
              "    .dataframe thead th {\n",
              "        text-align: right;\n",
              "    }\n",
              "</style>\n",
              "<table border=\"1\" class=\"dataframe\">\n",
              "  <thead>\n",
              "    <tr style=\"text-align: right;\">\n",
              "      <th></th>\n",
              "      <th>session</th>\n",
              "      <th>student_Id</th>\n",
              "      <th>exercise</th>\n",
              "      <th>activity</th>\n",
              "      <th>start_time</th>\n",
              "      <th>end_time</th>\n",
              "      <th>idle_time</th>\n",
              "      <th>mouse_wheel</th>\n",
              "      <th>mouse_wheel_click</th>\n",
              "      <th>mouse_click_left</th>\n",
              "      <th>mouse_click_right</th>\n",
              "      <th>mouse_movement</th>\n",
              "      <th>keystroke</th>\n",
              "    </tr>\n",
              "  </thead>\n",
              "  <tbody>\n",
              "    <tr>\n",
              "      <th>0</th>\n",
              "      <td>1</td>\n",
              "      <td>2</td>\n",
              "      <td>Es</td>\n",
              "      <td>Other</td>\n",
              "      <td>2.10.2014 11:35:32</td>\n",
              "      <td>2.10.2014 11:35:34</td>\n",
              "      <td>16</td>\n",
              "      <td>0</td>\n",
              "      <td>0</td>\n",
              "      <td>0</td>\n",
              "      <td>0</td>\n",
              "      <td>37</td>\n",
              "      <td>0</td>\n",
              "    </tr>\n",
              "    <tr>\n",
              "      <th>1</th>\n",
              "      <td>1</td>\n",
              "      <td>2</td>\n",
              "      <td>Es_1_1</td>\n",
              "      <td>Deeds_Es_1_1</td>\n",
              "      <td>2.10.2014 11:35:35</td>\n",
              "      <td>2.10.2014 11:38:23</td>\n",
              "      <td>8247889</td>\n",
              "      <td>0</td>\n",
              "      <td>0</td>\n",
              "      <td>2</td>\n",
              "      <td>0</td>\n",
              "      <td>45</td>\n",
              "      <td>20</td>\n",
              "    </tr>\n",
              "    <tr>\n",
              "      <th>2</th>\n",
              "      <td>1</td>\n",
              "      <td>2</td>\n",
              "      <td>Es_1_1</td>\n",
              "      <td>Other</td>\n",
              "      <td>2.10.2014 11:38:24</td>\n",
              "      <td>2.10.2014 11:38:24</td>\n",
              "      <td>0</td>\n",
              "      <td>0</td>\n",
              "      <td>0</td>\n",
              "      <td>0</td>\n",
              "      <td>0</td>\n",
              "      <td>0</td>\n",
              "      <td>0</td>\n",
              "    </tr>\n",
              "    <tr>\n",
              "      <th>3</th>\n",
              "      <td>1</td>\n",
              "      <td>2</td>\n",
              "      <td>Es_1_1</td>\n",
              "      <td>Blank</td>\n",
              "      <td>2.10.2014 11:38:25</td>\n",
              "      <td>2.10.2014 11:38:25</td>\n",
              "      <td>0</td>\n",
              "      <td>0</td>\n",
              "      <td>0</td>\n",
              "      <td>0</td>\n",
              "      <td>0</td>\n",
              "      <td>0</td>\n",
              "      <td>0</td>\n",
              "    </tr>\n",
              "    <tr>\n",
              "      <th>4</th>\n",
              "      <td>1</td>\n",
              "      <td>2</td>\n",
              "      <td>Es_1_1</td>\n",
              "      <td>Study_Es_1_1</td>\n",
              "      <td>2.10.2014 11:38:26</td>\n",
              "      <td>2.10.2014 11:38:36</td>\n",
              "      <td>13578</td>\n",
              "      <td>0</td>\n",
              "      <td>0</td>\n",
              "      <td>0</td>\n",
              "      <td>0</td>\n",
              "      <td>0</td>\n",
              "      <td>0</td>\n",
              "    </tr>\n",
              "  </tbody>\n",
              "</table>\n",
              "</div>"
            ],
            "text/plain": [
              "   session  student_Id exercise       activity           start_time  \\\n",
              "0        1           2       Es          Other   2.10.2014 11:35:32   \n",
              "1        1           2   Es_1_1   Deeds_Es_1_1   2.10.2014 11:35:35   \n",
              "2        1           2   Es_1_1          Other   2.10.2014 11:38:24   \n",
              "3        1           2   Es_1_1          Blank   2.10.2014 11:38:25   \n",
              "4        1           2   Es_1_1   Study_Es_1_1   2.10.2014 11:38:26   \n",
              "\n",
              "              end_time  idle_time  mouse_wheel  mouse_wheel_click  \\\n",
              "0   2.10.2014 11:35:34         16            0                  0   \n",
              "1   2.10.2014 11:38:23    8247889            0                  0   \n",
              "2   2.10.2014 11:38:24          0            0                  0   \n",
              "3   2.10.2014 11:38:25          0            0                  0   \n",
              "4   2.10.2014 11:38:36      13578            0                  0   \n",
              "\n",
              "   mouse_click_left  mouse_click_right  mouse_movement  keystroke  \n",
              "0                 0                  0              37          0  \n",
              "1                 2                  0              45         20  \n",
              "2                 0                  0               0          0  \n",
              "3                 0                  0               0          0  \n",
              "4                 0                  0               0          0  "
            ]
          },
          "execution_count": 8,
          "metadata": {},
          "output_type": "execute_result"
        }
      ],
      "source": [
        "students.head()"
      ]
    },
    {
      "cell_type": "markdown",
      "metadata": {},
      "source": [
        "Отфильтруем данные по двум самым частым активностям. Возьмем числовые признаки для обучения модели логистической регрессии"
      ]
    },
    {
      "cell_type": "code",
      "execution_count": 9,
      "metadata": {},
      "outputs": [],
      "source": [
        "CLASS_NAMES = [' Other', ' Diagram']\n",
        "TARGET_FEATURE = 'activity'\n",
        "features = ['idle_time', 'mouse_wheel', 'mouse_wheel_click', 'mouse_click_left', 'mouse_click_right', 'mouse_movement', 'keystroke']\n",
        "\n",
        "def get_samples(df):\n",
        "\treturn df.loc[df[TARGET_FEATURE].isin(CLASS_NAMES)]\n",
        "\n",
        "def get_X_y(df):\n",
        "\treturn [df[features], df[TARGET_FEATURE]]"
      ]
    },
    {
      "cell_type": "code",
      "execution_count": 10,
      "metadata": {},
      "outputs": [],
      "source": [
        "students = get_samples(students)\n",
        "X_students, y_students = get_X_y(students)"
      ]
    },
    {
      "cell_type": "code",
      "execution_count": 11,
      "metadata": {},
      "outputs": [
        {
          "data": {
            "text/plain": [
              "(2027, 13)"
            ]
          },
          "execution_count": 11,
          "metadata": {},
          "output_type": "execute_result"
        }
      ],
      "source": [
        "students.shape"
      ]
    },
    {
      "cell_type": "markdown",
      "metadata": {},
      "source": [
        "Разобьем на обучающую и тестовую выборки"
      ]
    },
    {
      "cell_type": "code",
      "execution_count": 12,
      "metadata": {},
      "outputs": [],
      "source": [
        "X_train, X_test, y_train, y_test = train_test_split(X_students, y_students, test_size = 0.4, random_state = 1)"
      ]
    },
    {
      "cell_type": "markdown",
      "metadata": {},
      "source": [
        "Нормализуем"
      ]
    },
    {
      "cell_type": "code",
      "execution_count": 13,
      "metadata": {},
      "outputs": [],
      "source": [
        "scaler = StandardScaler()\n",
        "\n",
        "X_train = scaler.fit_transform(X_train)\n",
        "X_test = scaler.transform(X_test)"
      ]
    },
    {
      "cell_type": "code",
      "execution_count": 14,
      "metadata": {},
      "outputs": [
        {
          "data": {
            "text/html": [
              "<div>\n",
              "<style scoped>\n",
              "    .dataframe tbody tr th:only-of-type {\n",
              "        vertical-align: middle;\n",
              "    }\n",
              "\n",
              "    .dataframe tbody tr th {\n",
              "        vertical-align: top;\n",
              "    }\n",
              "\n",
              "    .dataframe thead th {\n",
              "        text-align: right;\n",
              "    }\n",
              "</style>\n",
              "<table border=\"1\" class=\"dataframe\">\n",
              "  <thead>\n",
              "    <tr style=\"text-align: right;\">\n",
              "      <th></th>\n",
              "      <th>session</th>\n",
              "      <th>student_Id</th>\n",
              "      <th>exercise</th>\n",
              "      <th>activity</th>\n",
              "      <th>start_time</th>\n",
              "      <th>end_time</th>\n",
              "      <th>idle_time</th>\n",
              "      <th>mouse_wheel</th>\n",
              "      <th>mouse_wheel_click</th>\n",
              "      <th>mouse_click_left</th>\n",
              "      <th>mouse_click_right</th>\n",
              "      <th>mouse_movement</th>\n",
              "      <th>keystroke</th>\n",
              "    </tr>\n",
              "  </thead>\n",
              "  <tbody>\n",
              "    <tr>\n",
              "      <th>0</th>\n",
              "      <td>1</td>\n",
              "      <td>2</td>\n",
              "      <td>Es</td>\n",
              "      <td>0</td>\n",
              "      <td>2.10.2014 11:35:32</td>\n",
              "      <td>2.10.2014 11:35:34</td>\n",
              "      <td>16</td>\n",
              "      <td>0</td>\n",
              "      <td>0</td>\n",
              "      <td>0</td>\n",
              "      <td>0</td>\n",
              "      <td>37</td>\n",
              "      <td>0</td>\n",
              "    </tr>\n",
              "    <tr>\n",
              "      <th>2</th>\n",
              "      <td>1</td>\n",
              "      <td>2</td>\n",
              "      <td>Es_1_1</td>\n",
              "      <td>0</td>\n",
              "      <td>2.10.2014 11:38:24</td>\n",
              "      <td>2.10.2014 11:38:24</td>\n",
              "      <td>0</td>\n",
              "      <td>0</td>\n",
              "      <td>0</td>\n",
              "      <td>0</td>\n",
              "      <td>0</td>\n",
              "      <td>0</td>\n",
              "      <td>0</td>\n",
              "    </tr>\n",
              "    <tr>\n",
              "      <th>13</th>\n",
              "      <td>1</td>\n",
              "      <td>2</td>\n",
              "      <td>Es_1_1</td>\n",
              "      <td>0</td>\n",
              "      <td>2.10.2014 11:44:5</td>\n",
              "      <td>2.10.2014 11:44:33</td>\n",
              "      <td>82512</td>\n",
              "      <td>0</td>\n",
              "      <td>0</td>\n",
              "      <td>0</td>\n",
              "      <td>0</td>\n",
              "      <td>0</td>\n",
              "      <td>32</td>\n",
              "    </tr>\n",
              "    <tr>\n",
              "      <th>15</th>\n",
              "      <td>1</td>\n",
              "      <td>2</td>\n",
              "      <td>Es_1_1</td>\n",
              "      <td>1</td>\n",
              "      <td>2.10.2014 11:47:7</td>\n",
              "      <td>2.10.2014 11:50:24</td>\n",
              "      <td>11799085</td>\n",
              "      <td>0</td>\n",
              "      <td>0</td>\n",
              "      <td>0</td>\n",
              "      <td>0</td>\n",
              "      <td>0</td>\n",
              "      <td>0</td>\n",
              "    </tr>\n",
              "    <tr>\n",
              "      <th>17</th>\n",
              "      <td>1</td>\n",
              "      <td>2</td>\n",
              "      <td>Es_1_1</td>\n",
              "      <td>1</td>\n",
              "      <td>2.10.2014 11:50:26</td>\n",
              "      <td>2.10.2014 11:51:25</td>\n",
              "      <td>846045</td>\n",
              "      <td>0</td>\n",
              "      <td>0</td>\n",
              "      <td>0</td>\n",
              "      <td>0</td>\n",
              "      <td>0</td>\n",
              "      <td>0</td>\n",
              "    </tr>\n",
              "  </tbody>\n",
              "</table>\n",
              "</div>"
            ],
            "text/plain": [
              "    session  student_Id exercise  activity           start_time  \\\n",
              "0         1           2       Es         0   2.10.2014 11:35:32   \n",
              "2         1           2   Es_1_1         0   2.10.2014 11:38:24   \n",
              "13        1           2   Es_1_1         0    2.10.2014 11:44:5   \n",
              "15        1           2   Es_1_1         1    2.10.2014 11:47:7   \n",
              "17        1           2   Es_1_1         1   2.10.2014 11:50:26   \n",
              "\n",
              "               end_time  idle_time  mouse_wheel  mouse_wheel_click  \\\n",
              "0    2.10.2014 11:35:34         16            0                  0   \n",
              "2    2.10.2014 11:38:24          0            0                  0   \n",
              "13   2.10.2014 11:44:33      82512            0                  0   \n",
              "15   2.10.2014 11:50:24   11799085            0                  0   \n",
              "17   2.10.2014 11:51:25     846045            0                  0   \n",
              "\n",
              "    mouse_click_left  mouse_click_right  mouse_movement  keystroke  \n",
              "0                  0                  0              37          0  \n",
              "2                  0                  0               0          0  \n",
              "13                 0                  0               0         32  \n",
              "15                 0                  0               0          0  \n",
              "17                 0                  0               0          0  "
            ]
          },
          "execution_count": 14,
          "metadata": {},
          "output_type": "execute_result"
        }
      ],
      "source": [
        "students['activity'].replace({' Other': 0, ' Diagram': 1}, inplace=True)\n",
        "students.head()"
      ]
    },
    {
      "cell_type": "markdown",
      "metadata": {},
      "source": [
        "### Логистическая регрессия"
      ]
    },
    {
      "cell_type": "code",
      "execution_count": 15,
      "metadata": {},
      "outputs": [
        {
          "name": "stdout",
          "output_type": "stream",
          "text": [
            "Accuracy Metrics for Logistic Regression: 0.747 \n",
            "\n",
            "Confusion matrix \n",
            " [[107 184]\n",
            " [ 21 499]] \n",
            "\n",
            "Classification report \n",
            "               precision    recall  f1-score   support\n",
            "\n",
            "     Diagram       0.84      0.37      0.51       291\n",
            "       Other       0.73      0.96      0.83       520\n",
            "\n",
            "    accuracy                           0.75       811\n",
            "   macro avg       0.78      0.66      0.67       811\n",
            "weighted avg       0.77      0.75      0.72       811\n",
            "\n"
          ]
        }
      ],
      "source": [
        "log_model = LogisticRegression()\n",
        "log_model.fit(X_train, y_train)\n",
        "\n",
        "log_pred = log_model.predict(X_test)\n",
        "\n",
        "print('Accuracy Metrics for Logistic Regression:', accuracy_score(y_test, log_pred).round(3), '\\n')\n",
        "print('Confusion matrix \\n', confusion_matrix(y_test, log_pred), '\\n')\n",
        "print('Classification report \\n', classification_report(y_test, log_pred))"
      ]
    },
    {
      "cell_type": "markdown",
      "metadata": {},
      "source": [
        "### KNN"
      ]
    },
    {
      "cell_type": "code",
      "execution_count": 16,
      "metadata": {},
      "outputs": [
        {
          "name": "stdout",
          "output_type": "stream",
          "text": [
            "Accuracy Metrics for KNN: 0.73 \n",
            "\n",
            "Confusion_matrix \n",
            " [[167 124]\n",
            " [ 95 425]] \n",
            "\n",
            "              precision    recall  f1-score   support\n",
            "\n",
            "     Diagram       0.64      0.57      0.60       291\n",
            "       Other       0.77      0.82      0.80       520\n",
            "\n",
            "    accuracy                           0.73       811\n",
            "   macro avg       0.71      0.70      0.70       811\n",
            "weighted avg       0.73      0.73      0.73       811\n",
            "\n"
          ]
        }
      ],
      "source": [
        "knn_model = KNeighborsClassifier()\n",
        "knn_model.fit(X_train, y_train)\n",
        "knn_pred = knn_model.predict(X_test)\n",
        "\n",
        "print('Accuracy Metrics for KNN:', \n",
        "      accuracy_score(y_test, knn_pred).round(3), '\\n')\n",
        "print('Confusion_matrix \\n', \n",
        "      confusion_matrix(y_test, knn_pred), '\\n')\n",
        "print(classification_report(y_test, knn_pred))"
      ]
    },
    {
      "cell_type": "markdown",
      "metadata": {},
      "source": [
        "### Decision tree"
      ]
    },
    {
      "cell_type": "code",
      "execution_count": 17,
      "metadata": {},
      "outputs": [
        {
          "name": "stdout",
          "output_type": "stream",
          "text": [
            "Accuracy Metrics for Decision Tree Classifier: 0.684 \n",
            "\n",
            "Confusion_matrix \n",
            " [[168 123]\n",
            " [133 387]] \n",
            "\n",
            "              precision    recall  f1-score   support\n",
            "\n",
            "     Diagram       0.56      0.58      0.57       291\n",
            "       Other       0.76      0.74      0.75       520\n",
            "\n",
            "    accuracy                           0.68       811\n",
            "   macro avg       0.66      0.66      0.66       811\n",
            "weighted avg       0.69      0.68      0.69       811\n",
            "\n"
          ]
        }
      ],
      "source": [
        "cart_model = DecisionTreeClassifier()\n",
        "cart_model.fit(X_train, y_train)\n",
        "cart_pred = cart_model.predict(X_test)\n",
        "\n",
        "print('Accuracy Metrics for Decision Tree Classifier:', \n",
        "      accuracy_score(y_test, cart_pred).round(3), '\\n')\n",
        "print('Confusion_matrix \\n', \n",
        "      confusion_matrix(y_test, cart_pred), '\\n')\n",
        "print(classification_report(y_test, cart_pred))"
      ]
    },
    {
      "cell_type": "markdown",
      "metadata": {},
      "source": [
        "### Random Forest"
      ]
    },
    {
      "cell_type": "code",
      "execution_count": 18,
      "metadata": {},
      "outputs": [
        {
          "name": "stdout",
          "output_type": "stream",
          "text": [
            "Accuracy Metrics for Random Forest Classifier: 0.719 \n",
            "\n",
            "Confusion_matrix \n",
            " [[164 127]\n",
            " [101 419]] \n",
            "\n",
            "              precision    recall  f1-score   support\n",
            "\n",
            "     Diagram       0.62      0.56      0.59       291\n",
            "       Other       0.77      0.81      0.79       520\n",
            "\n",
            "    accuracy                           0.72       811\n",
            "   macro avg       0.69      0.68      0.69       811\n",
            "weighted avg       0.71      0.72      0.72       811\n",
            "\n"
          ]
        }
      ],
      "source": [
        "rfc_model = RandomForestClassifier()\n",
        "rfc_model.fit(X_train, y_train)\n",
        "rfc_pred = rfc_model.predict(X_test)\n",
        "\n",
        "print('Accuracy Metrics for Random Forest Classifier:', \n",
        "      accuracy_score(y_test, rfc_pred).round(3), '\\n')\n",
        "print('Confusion_matrix \\n', \n",
        "      confusion_matrix(y_test, rfc_pred), '\\n')\n",
        "print(classification_report(y_test, rfc_pred))"
      ]
    },
    {
      "cell_type": "markdown",
      "metadata": {},
      "source": [
        "Все алгоритмы дали неплохой результат без настройки параметров, заметно лучше показала себя логистическая регрессия, заметно хуже - бинарное дерево"
      ]
    },
    {
      "cell_type": "markdown",
      "metadata": {},
      "source": [
        "### Построим модель для каждого из студентов\n",
        "\n",
        "Проверим самые многочисленные типы активностей - они совпадают по всех трех случаях"
      ]
    },
    {
      "cell_type": "code",
      "execution_count": 19,
      "metadata": {},
      "outputs": [
        {
          "data": {
            "text/plain": [
              " Other         220\n",
              " Diagram       167\n",
              " Blank         144\n",
              " Properties     71\n",
              " Aulaweb        55\n",
              "Name: activity, dtype: int64"
            ]
          },
          "execution_count": 19,
          "metadata": {},
          "output_type": "execute_result"
        }
      ],
      "source": [
        "student_2.activity.value_counts()[:5]"
      ]
    },
    {
      "cell_type": "code",
      "execution_count": 20,
      "metadata": {},
      "outputs": [
        {
          "data": {
            "text/plain": [
              " Other         705\n",
              " Blank         346\n",
              " Diagram       242\n",
              " Aulaweb       145\n",
              " Properties     76\n",
              "Name: activity, dtype: int64"
            ]
          },
          "execution_count": 20,
          "metadata": {},
          "output_type": "execute_result"
        }
      ],
      "source": [
        "student_4.activity.value_counts()[:5]"
      ]
    },
    {
      "cell_type": "code",
      "execution_count": 21,
      "metadata": {},
      "outputs": [
        {
          "data": {
            "text/plain": [
              " Other         371\n",
              " Blank         354\n",
              " Diagram       322\n",
              " Aulaweb       106\n",
              " Properties    102\n",
              "Name: activity, dtype: int64"
            ]
          },
          "execution_count": 21,
          "metadata": {},
          "output_type": "execute_result"
        }
      ],
      "source": [
        "student_6.activity.value_counts()[:5]"
      ]
    },
    {
      "cell_type": "code",
      "execution_count": 22,
      "metadata": {},
      "outputs": [],
      "source": [
        "def pipeline(student_df):\n",
        "\n",
        "      student = get_samples(student_df)\n",
        "\n",
        "      X_student, y_student = get_X_y(student)\n",
        "      X_train, X_test, y_train, y_test = train_test_split(X_student, y_student, test_size = 0.4, random_state = 1)\n",
        "      # y_log = students['activity']\n",
        "\n",
        "      students['activity'].replace({' Other': 0, ' Diagram': 1}, inplace=True)\n",
        "      # y_log_train, y_log_test = train_test_split(y_log, test_size = 0.4, random_state = 1)\n",
        "\n",
        "\n",
        "      log_model = LogisticRegression()\n",
        "      log_model.fit(X_train, y_train)\n",
        "\n",
        "      log_pred = log_model.predict(X_test)\n",
        "\n",
        "      print('Accuracy Metrics for Logistic Regression:', accuracy_score(y_test, log_pred).round(3), '\\n')\n",
        "      print('Confusion matrix \\n', confusion_matrix(y_test, log_pred), '\\n')\n",
        "      print('Classification report \\n', classification_report(y_test, log_pred))\n",
        "            \n",
        "\n",
        "      knn_model = KNeighborsClassifier()\n",
        "      knn_model.fit(X_train, y_train)\n",
        "      knn_pred = knn_model.predict(X_test)\n",
        "\n",
        "      print('Accuracy Metrics for KNN:', \n",
        "            accuracy_score(y_test, knn_pred).round(3), '\\n')\n",
        "      print('Confusion_matrix \\n', \n",
        "            confusion_matrix(y_test, knn_pred), '\\n')\n",
        "      print(classification_report(y_test, knn_pred))\n",
        "\n",
        "\n",
        "      cart_model = DecisionTreeClassifier()\n",
        "      cart_model.fit(X_train, y_train)\n",
        "      cart_pred = cart_model.predict(X_test)\n",
        "\n",
        "      print('Accuracy Metrics for Decision Tree Classifier:', \n",
        "            accuracy_score(y_test, cart_pred).round(3), '\\n')\n",
        "      print('Confusion_matrix \\n', \n",
        "            confusion_matrix(y_test, cart_pred), '\\n')\n",
        "      print(classification_report(y_test, cart_pred))\n",
        "\n",
        "\n",
        "      rfc_model = RandomForestClassifier()\n",
        "      rfc_model.fit(X_train, y_train)\n",
        "      rfc_pred = rfc_model.predict(X_test)\n",
        "\n",
        "      print('Accuracy Metrics for Random Forest Classifier:', \n",
        "            accuracy_score(y_test, rfc_pred).round(3), '\\n')\n",
        "      print('Confusion_matrix \\n', \n",
        "            confusion_matrix(y_test, rfc_pred), '\\n')\n",
        "      print(classification_report(y_test, rfc_pred))\n"
      ]
    },
    {
      "cell_type": "code",
      "execution_count": 23,
      "metadata": {},
      "outputs": [
        {
          "name": "stdout",
          "output_type": "stream",
          "text": [
            "Accuracy Metrics for Logistic Regression: 0.658 \n",
            "\n",
            "Confusion matrix \n",
            " [[21 46]\n",
            " [ 7 81]] \n",
            "\n",
            "Classification report \n",
            "               precision    recall  f1-score   support\n",
            "\n",
            "     Diagram       0.75      0.31      0.44        67\n",
            "       Other       0.64      0.92      0.75        88\n",
            "\n",
            "    accuracy                           0.66       155\n",
            "   macro avg       0.69      0.62      0.60       155\n",
            "weighted avg       0.69      0.66      0.62       155\n",
            "\n",
            "Accuracy Metrics for KNN: 0.619 \n",
            "\n",
            "Confusion_matrix \n",
            " [[30 37]\n",
            " [22 66]] \n",
            "\n",
            "              precision    recall  f1-score   support\n",
            "\n",
            "     Diagram       0.58      0.45      0.50        67\n",
            "       Other       0.64      0.75      0.69        88\n",
            "\n",
            "    accuracy                           0.62       155\n",
            "   macro avg       0.61      0.60      0.60       155\n",
            "weighted avg       0.61      0.62      0.61       155\n",
            "\n",
            "Accuracy Metrics for Decision Tree Classifier: 0.613 \n",
            "\n",
            "Confusion_matrix \n",
            " [[33 34]\n",
            " [26 62]] \n",
            "\n",
            "              precision    recall  f1-score   support\n",
            "\n",
            "     Diagram       0.56      0.49      0.52        67\n",
            "       Other       0.65      0.70      0.67        88\n",
            "\n",
            "    accuracy                           0.61       155\n",
            "   macro avg       0.60      0.60      0.60       155\n",
            "weighted avg       0.61      0.61      0.61       155\n",
            "\n",
            "Accuracy Metrics for Random Forest Classifier: 0.606 \n",
            "\n",
            "Confusion_matrix \n",
            " [[32 35]\n",
            " [26 62]] \n",
            "\n",
            "              precision    recall  f1-score   support\n",
            "\n",
            "     Diagram       0.55      0.48      0.51        67\n",
            "       Other       0.64      0.70      0.67        88\n",
            "\n",
            "    accuracy                           0.61       155\n",
            "   macro avg       0.60      0.59      0.59       155\n",
            "weighted avg       0.60      0.61      0.60       155\n",
            "\n"
          ]
        }
      ],
      "source": [
        "pipeline(student_2)"
      ]
    },
    {
      "cell_type": "code",
      "execution_count": 24,
      "metadata": {},
      "outputs": [
        {
          "name": "stdout",
          "output_type": "stream",
          "text": [
            "Accuracy Metrics for Logistic Regression: 0.33 \n",
            "\n",
            "Confusion matrix \n",
            " [[ 92   8]\n",
            " [246  33]] \n",
            "\n",
            "Classification report \n",
            "               precision    recall  f1-score   support\n",
            "\n",
            "     Diagram       0.27      0.92      0.42       100\n",
            "       Other       0.80      0.12      0.21       279\n",
            "\n",
            "    accuracy                           0.33       379\n",
            "   macro avg       0.54      0.52      0.31       379\n",
            "weighted avg       0.66      0.33      0.26       379\n",
            "\n",
            "Accuracy Metrics for KNN: 0.763 \n",
            "\n",
            "Confusion_matrix \n",
            " [[ 39  61]\n",
            " [ 29 250]] \n",
            "\n",
            "              precision    recall  f1-score   support\n",
            "\n",
            "     Diagram       0.57      0.39      0.46       100\n",
            "       Other       0.80      0.90      0.85       279\n",
            "\n",
            "    accuracy                           0.76       379\n",
            "   macro avg       0.69      0.64      0.66       379\n",
            "weighted avg       0.74      0.76      0.75       379\n",
            "\n",
            "Accuracy Metrics for Decision Tree Classifier: 0.755 \n",
            "\n",
            "Confusion_matrix \n",
            " [[ 52  48]\n",
            " [ 45 234]] \n",
            "\n",
            "              precision    recall  f1-score   support\n",
            "\n",
            "     Diagram       0.54      0.52      0.53       100\n",
            "       Other       0.83      0.84      0.83       279\n",
            "\n",
            "    accuracy                           0.75       379\n",
            "   macro avg       0.68      0.68      0.68       379\n",
            "weighted avg       0.75      0.75      0.75       379\n",
            "\n",
            "Accuracy Metrics for Random Forest Classifier: 0.792 \n",
            "\n",
            "Confusion_matrix \n",
            " [[ 50  50]\n",
            " [ 29 250]] \n",
            "\n",
            "              precision    recall  f1-score   support\n",
            "\n",
            "     Diagram       0.63      0.50      0.56       100\n",
            "       Other       0.83      0.90      0.86       279\n",
            "\n",
            "    accuracy                           0.79       379\n",
            "   macro avg       0.73      0.70      0.71       379\n",
            "weighted avg       0.78      0.79      0.78       379\n",
            "\n"
          ]
        }
      ],
      "source": [
        "pipeline(student_4)"
      ]
    },
    {
      "cell_type": "code",
      "execution_count": 25,
      "metadata": {},
      "outputs": [
        {
          "name": "stdout",
          "output_type": "stream",
          "text": [
            "Accuracy Metrics for Logistic Regression: 0.468 \n",
            "\n",
            "Confusion matrix \n",
            " [[130   1]\n",
            " [147   0]] \n",
            "\n",
            "Classification report \n",
            "               precision    recall  f1-score   support\n",
            "\n",
            "     Diagram       0.47      0.99      0.64       131\n",
            "       Other       0.00      0.00      0.00       147\n",
            "\n",
            "    accuracy                           0.47       278\n",
            "   macro avg       0.23      0.50      0.32       278\n",
            "weighted avg       0.22      0.47      0.30       278\n",
            "\n",
            "Accuracy Metrics for KNN: 0.612 \n",
            "\n",
            "Confusion_matrix \n",
            " [[71 60]\n",
            " [48 99]] \n",
            "\n",
            "              precision    recall  f1-score   support\n",
            "\n",
            "     Diagram       0.60      0.54      0.57       131\n",
            "       Other       0.62      0.67      0.65       147\n",
            "\n",
            "    accuracy                           0.61       278\n",
            "   macro avg       0.61      0.61      0.61       278\n",
            "weighted avg       0.61      0.61      0.61       278\n",
            "\n",
            "Accuracy Metrics for Decision Tree Classifier: 0.662 \n",
            "\n",
            "Confusion_matrix \n",
            " [[ 80  51]\n",
            " [ 43 104]] \n",
            "\n",
            "              precision    recall  f1-score   support\n",
            "\n",
            "     Diagram       0.65      0.61      0.63       131\n",
            "       Other       0.67      0.71      0.69       147\n",
            "\n",
            "    accuracy                           0.66       278\n",
            "   macro avg       0.66      0.66      0.66       278\n",
            "weighted avg       0.66      0.66      0.66       278\n",
            "\n",
            "Accuracy Metrics for Random Forest Classifier: 0.68 \n",
            "\n",
            "Confusion_matrix \n",
            " [[ 80  51]\n",
            " [ 38 109]] \n",
            "\n",
            "              precision    recall  f1-score   support\n",
            "\n",
            "     Diagram       0.68      0.61      0.64       131\n",
            "       Other       0.68      0.74      0.71       147\n",
            "\n",
            "    accuracy                           0.68       278\n",
            "   macro avg       0.68      0.68      0.68       278\n",
            "weighted avg       0.68      0.68      0.68       278\n",
            "\n"
          ]
        }
      ],
      "source": [
        "pipeline(student_6)"
      ]
    },
    {
      "cell_type": "markdown",
      "metadata": {},
      "source": [
        "##### Итог: на малом количестве данных логистическая регрессия показывает себя заметно хуже, чем остальные алгоритмы"
      ]
    },
    {
      "cell_type": "markdown",
      "metadata": {},
      "source": [
        "Подберем лучшие параметры для обучения модели на всех студентах с помощью кросс-валидации"
      ]
    },
    {
      "cell_type": "code",
      "execution_count": 26,
      "metadata": {},
      "outputs": [],
      "source": [
        "from sklearn.model_selection import GridSearchCV"
      ]
    },
    {
      "cell_type": "markdown",
      "metadata": {},
      "source": [
        "Для логистической регрессии возьмем оптимальный алгоритм оптимизации для обучения на малом количестве данных - liblinear и параметр регуляризации"
      ]
    },
    {
      "cell_type": "code",
      "execution_count": 27,
      "metadata": {},
      "outputs": [
        {
          "data": {
            "text/plain": [
              "{'C': 2, 'penalty': 'l1'}"
            ]
          },
          "execution_count": 27,
          "metadata": {},
          "output_type": "execute_result"
        }
      ],
      "source": [
        "model = LogisticRegression(solver='liblinear')\n",
        "param = {'C': [0.1, 0.5, 1, 2],\n",
        "        'penalty': ['l1', 'l2']\n",
        "        }\n",
        "grid = GridSearchCV(estimator=model, param_grid=param, cv=20, n_jobs=-1)\n",
        "grid.fit(X_train, y_train)\n",
        "grid.best_params_"
      ]
    },
    {
      "cell_type": "code",
      "execution_count": 28,
      "metadata": {},
      "outputs": [
        {
          "name": "stdout",
          "output_type": "stream",
          "text": [
            "Accuracy Metrics for Logistic Regression: 0.746 \n",
            "\n",
            "Confusion matrix \n",
            " [[107 184]\n",
            " [ 22 498]] \n",
            "\n",
            "Classification report \n",
            "               precision    recall  f1-score   support\n",
            "\n",
            "     Diagram       0.83      0.37      0.51       291\n",
            "       Other       0.73      0.96      0.83       520\n",
            "\n",
            "    accuracy                           0.75       811\n",
            "   macro avg       0.78      0.66      0.67       811\n",
            "weighted avg       0.77      0.75      0.71       811\n",
            "\n"
          ]
        }
      ],
      "source": [
        "model = LogisticRegression(solver='liblinear', C=2, penalty='l1')\n",
        "model.fit(X_train, y_train)\n",
        "log_pred = model.predict(X_test)\n",
        "print('Accuracy Metrics for Logistic Regression:', accuracy_score(y_test, log_pred).round(3), '\\n')\n",
        "print('Confusion matrix \\n', confusion_matrix(y_test, log_pred), '\\n')\n",
        "print('Classification report \\n', classification_report(y_test, log_pred))"
      ]
    },
    {
      "cell_type": "markdown",
      "metadata": {},
      "source": [
        "Результат такой же, как для значений по умолчанию. Для KNN подберем количество соседей при поиске:"
      ]
    },
    {
      "cell_type": "code",
      "execution_count": 29,
      "metadata": {},
      "outputs": [
        {
          "data": {
            "text/plain": [
              "{'n_neighbors': 35}"
            ]
          },
          "execution_count": 29,
          "metadata": {},
          "output_type": "execute_result"
        }
      ],
      "source": [
        "model = KNeighborsClassifier()\n",
        "\n",
        "param = {'n_neighbors': [30, 35, 40]}\n",
        "grid = GridSearchCV(estimator=model, param_grid=param, cv=20, n_jobs=-1)\n",
        "grid.fit(X_train, y_train)\n",
        "grid.best_params_"
      ]
    },
    {
      "cell_type": "code",
      "execution_count": 30,
      "metadata": {},
      "outputs": [
        {
          "name": "stdout",
          "output_type": "stream",
          "text": [
            "Accuracy Metrics for KNN: 0.766 \n",
            "\n",
            "Confusion_matrix \n",
            " [[150 141]\n",
            " [ 49 471]] \n",
            "\n",
            "              precision    recall  f1-score   support\n",
            "\n",
            "     Diagram       0.75      0.52      0.61       291\n",
            "       Other       0.77      0.91      0.83       520\n",
            "\n",
            "    accuracy                           0.77       811\n",
            "   macro avg       0.76      0.71      0.72       811\n",
            "weighted avg       0.76      0.77      0.75       811\n",
            "\n"
          ]
        }
      ],
      "source": [
        "knn_model = KNeighborsClassifier(35)\n",
        "knn_model.fit(X_train, y_train)\n",
        "knn_pred = knn_model.predict(X_test)\n",
        "\n",
        "print('Accuracy Metrics for KNN:', \n",
        "\t\t\taccuracy_score(y_test, knn_pred).round(3), '\\n')\n",
        "print('Confusion_matrix \\n', \n",
        "\t\t\tconfusion_matrix(y_test, knn_pred), '\\n')\n",
        "print(classification_report(y_test, knn_pred))"
      ]
    },
    {
      "cell_type": "markdown",
      "metadata": {},
      "source": [
        "Виден значительный прирост точности. Для случайного леса подберем количество деревьев, глубину дерева и критерий отбора сэмплов:"
      ]
    },
    {
      "cell_type": "code",
      "execution_count": 31,
      "metadata": {},
      "outputs": [
        {
          "data": {
            "text/plain": [
              "{'criterion': 'gini', 'max_depth': 10, 'n_estimators': 100}"
            ]
          },
          "execution_count": 31,
          "metadata": {},
          "output_type": "execute_result"
        }
      ],
      "source": [
        "model = RandomForestClassifier()\n",
        "param = {'n_estimators': [100, 500, 1000],\n",
        "        'max_depth': [10, 50, 100],\n",
        "        'criterion': ['gini', 'entropy', 'log_loss'],\n",
        "        }\n",
        "grid = GridSearchCV(estimator=model, param_grid=param, cv=20, n_jobs=-1)\n",
        "grid.fit(X_train, y_train)\n",
        "grid.best_params_"
      ]
    },
    {
      "cell_type": "code",
      "execution_count": 32,
      "metadata": {},
      "outputs": [
        {
          "name": "stdout",
          "output_type": "stream",
          "text": [
            "Accuracy Metrics for Random Forest Classifier: 0.75 \n",
            "\n",
            "Confusion_matrix \n",
            " [[136 155]\n",
            " [ 48 472]] \n",
            "\n",
            "              precision    recall  f1-score   support\n",
            "\n",
            "     Diagram       0.74      0.47      0.57       291\n",
            "       Other       0.75      0.91      0.82       520\n",
            "\n",
            "    accuracy                           0.75       811\n",
            "   macro avg       0.75      0.69      0.70       811\n",
            "weighted avg       0.75      0.75      0.73       811\n",
            "\n"
          ]
        }
      ],
      "source": [
        "rfc_model = RandomForestClassifier(**grid.best_params_)\n",
        "rfc_model.fit(X_train, y_train)\n",
        "rfc_pred = rfc_model.predict(X_test)\n",
        "\n",
        "print('Accuracy Metrics for Random Forest Classifier:', \n",
        "      accuracy_score(y_test, rfc_pred).round(3), '\\n')\n",
        "print('Confusion_matrix \\n', \n",
        "      confusion_matrix(y_test, rfc_pred), '\\n')\n",
        "print(classification_report(y_test, rfc_pred))"
      ]
    },
    {
      "cell_type": "markdown",
      "metadata": {},
      "source": [
        "Вывод: в ходе проделанной работы была решена задача классификации с помощью четырех алгоритмов. Алгоритмы ожидаемо показали худшую точность предсказания на меньшем количестве данных, в особенности - логистическая регрессия. При поиске оптимальных гиперпараметров логистическая регрессия не улучшила показатели, KNN-классификатор улучшил точность при увеличении количества соседей, a случайный лес показал значительный прирост точности при повышении количества деревьев."
      ]
    }
  ],
  "metadata": {
    "colab": {
      "collapsed_sections": [],
      "provenance": []
    },
    "kernelspec": {
      "display_name": "Python 3.10.8 64-bit",
      "language": "python",
      "name": "python3"
    },
    "language_info": {
      "codemirror_mode": {
        "name": "ipython",
        "version": 3
      },
      "file_extension": ".py",
      "mimetype": "text/x-python",
      "name": "python",
      "nbconvert_exporter": "python",
      "pygments_lexer": "ipython3",
      "version": "3.10.8"
    },
    "vscode": {
      "interpreter": {
        "hash": "b0fa6594d8f4cbf19f97940f81e996739fb7646882a419484c72d19e05852a7e"
      }
    }
  },
  "nbformat": 4,
  "nbformat_minor": 0
}
